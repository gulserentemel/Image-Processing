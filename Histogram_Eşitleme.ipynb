{
  "nbformat": 4,
  "nbformat_minor": 0,
  "metadata": {
    "colab": {
      "provenance": []
    },
    "kernelspec": {
      "name": "python3",
      "display_name": "Python 3"
    },
    "language_info": {
      "name": "python"
    }
  },
  "cells": [
    {
      "cell_type": "code",
      "execution_count": null,
      "metadata": {
        "id": "w7JsrRlN-xKj"
      },
      "outputs": [],
      "source": [
        "#Histogram eşitleme, bir görüntünün histogramını değiştirerek görüntünün kontrastını artıran bir işlemdir.\n",
        "#Bu işlem, görüntünün genel parlaklık dağılımını düzeltmeye ve görüntüyü daha iyi bir şekilde görselleştirmeye\n",
        "#yardımcı olur. Histogram eşitleme, özellikle görüntü işleme ve bilgisayar görüşü uygulamalarında sıkça\n",
        "#kullanılır.\n",
        "\n",
        "#Histogram eşitleme adımları şu şekildedir:\n",
        "\n",
        "#Histogram Hesaplama:\n",
        "#İlk adım, görüntünün gri tonlamalı histogramını elde etmektir. Histogram, piksel değerlerinin (0 ile 255\n",
        "#arasında) görüntüdeki frekanslarını gösterir.\n",
        "\n",
        "#Kümülatif Dağılım Fonksiyonu (CDF) Hesaplama:\n",
        "#Histogramın kümülatif dağılım fonksiyonu (CDF) hesaplanır. CDF, her bir gri tonun görüntüdeki toplam\n",
        "#frekansını temsil eder.\n",
        "\n",
        "#Normalizasyon:\n",
        "#CDF, 0 ile 255 arasındaki değerlere ölçeklenir, böylece değerler 0'dan 255'e doğru lineer bir şekilde dağılır\n",
        "\n",
        "#Eşitleme:\n",
        "#Normalleştirilmiş CDF, görüntünün her piksel değerini, CDF'deki karşılık gelen değere dönüştürerek eşitleme\n",
        "#işlemi gerçekleştirilir. Bu, görüntünün piksel değerlerini daha geniş bir aralığa dağıtarak kontrastı artırır\n",
        "\n",
        "#Yeni Görüntü Oluşturma:\n",
        "#Eşitlenmiş piksel değerleri kullanılarak yeni bir görüntü oluşturulur.\n",
        "#Histogram eşitleme, özellikle düşük kontrastlı görüntülerin iyileştirilmesi veya belirli parlaklık\n",
        "#aralıklarındaki detayların daha iyi görünür hale getirilmesi amacıyla kullanılır. Ancak, her görüntü için\n",
        "#uygun olmayabilir ve bazı durumlarda istenmeyen sonuçlara neden olabilir.\n",
        "\n",
        "\n",
        "\n",
        "\n",
        "\n"
      ]
    },
    {
      "cell_type": "code",
      "source": [
        "import cv2\n",
        "import numpy as np\n",
        "import matplotlib.pyplot as plt\n",
        "\n",
        "img = cv2.imread('ornek_goruntu.jpg', cv2.IMREAD_GRAYSCALE)\n",
        "\n",
        "# Histogramı hesapla\n",
        "hist, bins = np.histogram(img.flatten(), 256, [0, 256])\n",
        "\n",
        "# Kümülatif Dağılım Fonksiyonunu (CDF) hesapla\n",
        "cdf = hist.cumsum()\n",
        "\n",
        "# CDF'yi normalize et\n",
        "cdf_normalized = cdf * hist.max() / cdf.max()\n",
        "\n",
        "# Histogram eşitleme işlemi\n",
        "img_eşitlenmiş = np.interp(img.flatten(), bins[:-1], cdf_normalized)\n",
        "\n",
        "# Yeni görüntüyü yeniden şekillendir\n",
        "img_eşitlenmiş = img_eşitlenmiş.reshape(img.shape)\n",
        "\n",
        "# Görüntülerin görselleştirilmesi\n",
        "plt.figure(figsize=(10, 6))\n",
        "\n",
        "plt.subplot(2, 2, 1)\n",
        "plt.imshow(img, cmap='gray')\n",
        "plt.title('Orijinal Görüntü')\n",
        "\n",
        "plt.subplot(2, 2, 2)\n",
        "plt.hist(img.flatten(), 256, [0, 256], color='r')\n",
        "plt.title('Orijinal Histogram')\n",
        "\n",
        "plt.subplot(2, 2, 3)\n",
        "plt.imshow(img_eşitlenmiş, cmap='gray')\n",
        "plt.title('Eşitlenmiş Görüntü')\n",
        "\n",
        "plt.subplot(2, 2, 4)\n",
        "plt.hist(img_eşitlenmiş.flatten(), 256, [0, 256], color='r')\n",
        "plt.title('Eşitlenmiş Histogram')\n",
        "\n",
        "plt.show()\n"
      ],
      "metadata": {
        "id": "8_IqQBGI_mda"
      },
      "execution_count": null,
      "outputs": []
    }
  ]
}