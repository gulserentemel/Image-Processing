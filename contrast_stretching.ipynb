{
  "nbformat": 4,
  "nbformat_minor": 0,
  "metadata": {
    "colab": {
      "provenance": []
    },
    "kernelspec": {
      "name": "python3",
      "display_name": "Python 3"
    },
    "language_info": {
      "name": "python"
    }
  },
  "cells": [
    {
      "cell_type": "markdown",
      "source": [
        "CONTRAST STRETCHING\n",
        "\n",
        "Kontrast genişletme (contrast stretching), bir görüntünün kontrastını artırmak için kullanılan bir görüntü işleme tekniğidir. Bu teknik, bir görüntünün piksel değerlerini genişletmeyi amaçlar, böylece görüntüdeki farklı tonlar daha belirgin hale gelir.\n",
        "\n",
        "Genellikle, bir görüntüdeki piksel değerleri belirli bir aralıkta (örneğin, 0 ile 255 arasında) bulunur. Kontrast genişletme, bu değerleri daha geniş bir aralığa yayarak görüntüdeki detayları daha iyi görmemizi sağlar.\n",
        "\n",
        "Bu işlem, aşağıdaki adımları içerebilir:\n",
        "\n",
        "Minimum ve Maksimum Değerlerin Belirlenmesi: Görüntüdeki en küçük ve en büyük piksel değerleri belirlenir.\n",
        "\n",
        "Yeni Değerlerin Hesaplanması: Her pikselin yeni değeri, orijinal değerin belirlenen minimum ve maksimum değerler arasında lineer bir şekilde yeniden ölçeklenmesiyle elde edilir.\n",
        "\n",
        "Matematiksel olarak, yeni değer şu formülle hesaplanabilir:\n",
        "\n",
        "NewValue =[(( OldValue − Min) × (NewMax − NewMin))/ Max − Min] + NewMin\n",
        "\n",
        "Burada:\n",
        "OldValue: Orijinal piksel değeri\n",
        "Min ve Max: Orijinal görüntüdeki minimum ve maksimum piksel değerleri\n",
        "NewMin ve NewMax: Yeni ölçeklenmiş değer aralığının minimum ve maksimum değerleri\n",
        "\n",
        "Bu işlem, görüntüdeki detayları vurgulamak ve daha belirgin hale getirmek için kullanılır. Özellikle, bir görüntü düşük kontrasta sahipse veya piksel değerleri belirli bir aralıkta sıkışmışsa, kontrast genişletme bu tür durumları düzeltmek için etkili bir yöntem olabilir.\n",
        "\n",
        "\n",
        "\n",
        "\n",
        "\n"
      ],
      "metadata": {
        "id": "9CJbpMKNBMQw"
      }
    },
    {
      "cell_type": "code",
      "execution_count": null,
      "metadata": {
        "id": "164HOfZGA7mN"
      },
      "outputs": [],
      "source": [
        "import cv2\n",
        "import numpy as np\n",
        "\n",
        "def contrast_stretching(image_path):\n",
        "    original_image = cv2.imread(image_path, cv2.IMREAD_GRAYSCALE)\n",
        "\n",
        "    # En küçük ve en büyük piksel değerlerini belirle\n",
        "    min_val = np.min(original_image)\n",
        "    max_val = np.max(original_image)\n",
        "\n",
        "    # Yeni değer aralığını belirle\n",
        "    new_min = 0\n",
        "    new_max = 255\n",
        "\n",
        "    # Kontrast genişletme formülünü kullanarak her pikselin yeni değerini hesapla\n",
        "    new_image = (((original_image - min_val) * (new_max - new_min)) / (max_val - min_val)) + new_min\n",
        "\n",
        "    # Yeni görüntüyü oluştur\n",
        "    new_image = new_image.astype(np.uint8)\n",
        "\n",
        "    # Orijinal ve yeni görüntüyü göster\n",
        "    cv2.imshow(\"Original Image\", original_image)\n",
        "    cv2.imshow(\"Contrast Stretched Image\", new_image)\n",
        "    cv2.waitKey(0)\n",
        "    cv2.destroyAllWindows()\n",
        "\n",
        "# Örnek kullanım\n",
        "contrast_stretching(\"path/to/your/image.jpg\")\n"
      ]
    }
  ]
}