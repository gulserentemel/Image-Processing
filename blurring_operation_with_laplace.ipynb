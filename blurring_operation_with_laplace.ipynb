{
  "nbformat": 4,
  "nbformat_minor": 0,
  "metadata": {
    "colab": {
      "provenance": []
    },
    "kernelspec": {
      "name": "python3",
      "display_name": "Python 3"
    },
    "language_info": {
      "name": "python"
    }
  },
  "cells": [
    {
      "cell_type": "markdown",
      "source": [
        "Bulanıklaştırma:\n",
        "Bulanıklaştırma (blurring ya da smoothing olarak da adlandırılır), bir görüntüdeki detayları azaltmak ve gürültüyü ortadan kaldırmak için kullanılan bir işlemdir. Bu işlem, bir pikselin değerini çevresindeki piksellerin ortalaması ya da ağırlıklı ortalaması ile değiştirerek gerçekleştirilir. Bu sayede yüksek frekansta olan detaylar azalır ve görüntü daha yumuşak bir hale gelir.\n",
        "\n",
        "Laplace İşlemi:\n",
        "Laplace işlemi, görüntüdeki kenarları vurgulamak için kullanılır. İkinci türevi alarak, görüntüdeki yoğunluk değişikliklerini tespit eder. Sonuç olarak, bu işlem, bir görüntünün kenarlarını ve köşelerini vurgular.\n",
        "\n",
        "Eğer bu iki işlemi bir arada kullanırsanız, önce bir görüntüyü bulanıklaştırmak, ardından Laplace işlemi uygulamak, genellikle kenarların daha belirgin hale gelmesine değil, aksine kenarların etrafındaki bilgilerin kaybolmasına neden olabilir. Yani, bu iki işlem genellikle zıt etkiler yaratır ve birleştirildiklerinde özel bir uygulama senaryosuna ihtiyaç duyarlar."
      ],
      "metadata": {
        "id": "1074K-kGmGzF"
      }
    },
    {
      "cell_type": "code",
      "execution_count": null,
      "metadata": {
        "id": "rIEVAUWRlvU0"
      },
      "outputs": [],
      "source": [
        "import cv2\n",
        "import numpy as np\n",
        "\n",
        "image = cv2.imread('giris_resmi.jpg', cv2.IMREAD_GRAYSCALE)\n",
        "\n",
        "blurred = cv2.GaussianBlur(image, (5, 5), 0)\n",
        "\n",
        "laplacian = cv2.Laplacian(blurred, cv2.CV_64F)\n",
        "\n",
        "cv2.imshow('Orjinal Görüntü', image)\n",
        "cv2.imshow('Bulanıklaştırılmış Görüntü', blurred)\n",
        "cv2.imshow('Laplace İşlemi Uygulanmış Görüntü', laplacian)\n",
        "\n",
        "cv2.waitKey(0)\n",
        "cv2.destroyAllWindows()\n"
      ]
    }
  ]
}