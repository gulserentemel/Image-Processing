{
  "nbformat": 4,
  "nbformat_minor": 0,
  "metadata": {
    "colab": {
      "provenance": []
    },
    "kernelspec": {
      "name": "python3",
      "display_name": "Python 3"
    },
    "language_info": {
      "name": "python"
    }
  },
  "cells": [
    {
      "cell_type": "markdown",
      "source": [
        "Contraharmonic Mean Filtresi, dijital sinyal işleme ve görüntü analizi alanında kullanılan bir filtre türüdür. Bu filtre, özellikle tuz-biber gürültüsünün bulunduğu bir görüntüdeki gürültüyü azaltmak için tasarlanmıştır. Tuz-biber gürültüsü, rastgele beyaz ve siyah piksellerin meydana geldiği bir tür gürültüdür.\n",
        "Contraharmonic Mean Filtresi, tuz-biber gürültüsünün etkisini azaltmada etkilidir. Ancak,Q parametresinin seçimi önemlidir. Q>0 olduğunda, filtre genellikle biber gürültüsünü (koyu pikselleri) azaltmaya odaklanır,  Q<0 olduğunda ise tuz gürültüsünü (açık pikselleri) azaltmaya odaklanır.\n",
        "\n",
        "Contraharmonic Mean Filtresi'nin bazı senaryolarda etkili olduğunu, ancak gürültü karakteristiği ve uygulama gereksinimlerine bağlı olarak median filtreleme veya adaptif filtreleme gibi diğer gürültü azaltma tekniklerinin de düşünülebileceğini belirtmek önemlidir."
      ],
      "metadata": {
        "id": "cCHa-fNJ4TJq"
      }
    },
    {
      "cell_type": "code",
      "execution_count": null,
      "metadata": {
        "id": "42ZGj-h23wVK"
      },
      "outputs": [],
      "source": [
        "import cv2\n",
        "import numpy as np\n",
        "\n",
        "def contraharmonic_mean_filter(image, window_size, Q):\n",
        "    padded_image = cv2.copyMakeBorder(image, window_size//2, window_size//2, window_size//2, window_size//2, cv2.BORDER_CONSTANT)\n",
        "\n",
        "    result_image = np.zeros_like(image, dtype=np.float64)\n",
        "\n",
        "    for i in range(window_size//2, padded_image.shape[0] - window_size//2):\n",
        "        for j in range(window_size//2, padded_image.shape[1] - window_size//2):\n",
        "            neighborhood = padded_image[i-window_size//2:i+window_size//2+1, j-window_size//2:j+window_size//2+1]\n",
        "            numerator = np.sum(neighborhood**(Q+1))\n",
        "            denominator = np.sum(neighborhood**Q)\n",
        "            result_image[i-window_size//2, j-window_size//2] = numerator / denominator if denominator != 0 else 0\n",
        "\n",
        "    return np.clip(result_image, 0, 255).astype(np.uint8)\n",
        "\n",
        "# Örnek kullanım\n",
        "image = cv2.imread('your_image.jpg', cv2.IMREAD_GRAYSCALE)\n",
        "window_size = 3  # Filtre penceresi boyutu\n",
        "Q = 1.5  # Filtre sırası\n",
        "\n",
        "filtered_image = contraharmonic_mean_filter(image, window_size, Q)\n",
        "\n",
        "# Görüntüleri göster\n",
        "cv2.imshow('Original Image', image)\n",
        "cv2.imshow('Contraharmonic Mean Filtered Image', filtered_image)\n",
        "cv2.waitKey(0)\n",
        "cv2.destroyAllWindows()\n"
      ]
    }
  ]
}