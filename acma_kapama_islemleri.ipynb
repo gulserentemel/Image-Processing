{
  "nbformat": 4,
  "nbformat_minor": 0,
  "metadata": {
    "colab": {
      "provenance": []
    },
    "kernelspec": {
      "name": "python3",
      "display_name": "Python 3"
    },
    "language_info": {
      "name": "python"
    }
  },
  "cells": [
    {
      "cell_type": "markdown",
      "source": [
        "açma (opening) ve kapama (closing) işlemleri, morfolojik operasyonlardır ve genellikle görüntü düzenleme ve nesne tespiti gibi uygulamalarda kullanılır. Bu işlemler genellikle gürültü azaltma, nesne ayırma ve kenar tespiti gibi amaçlarla kullanılır.\n",
        "\n",
        "Açma (Opening):\n",
        "Açma işlemi, genellikle gürültüyü azaltmak ve nesneleri düzgünleştirmek için kullanılır. İlk olarak, görüntü üzerinde bir küçültme işlemi (erosion) uygulanır, ardından genişletme işlemi (dilation) uygulanır. Bu işlemlerin birleşimi, küçük nesneleri ve gürültüyü ortadan kaldırırken, büyük nesnelerin yapısını korur.\n",
        "\n",
        "Açma işlemi matematiksel olarak şu şekilde ifade edilir:\n",
        "Acma(A, B) = Genisletme(Kucultme(A, B), B)\n",
        "\n",
        "Kapama (Closing):\n",
        "Kapama işlemi, nesneleri birleştirmek ve boşlukları doldurmak için kullanılır. İlk olarak, genişletme işlemi uygulanır, ardından küçültme işlemi uygulanır. Bu işlemlerin birleşimi, nesneler arasındaki boşlukları doldururken, nesnelerin yapısını korur.\n",
        "\n",
        "Kapama işlemi matematiksel olarak şu şekilde ifade edilir:\n",
        "Kapama(A, B) = Kucultme(Genisletme(A, B), B)\n",
        "\n",
        "Burada A, işlem uygulanacak olan görüntüyü, B, yapılandırma elemanını temsil eder. Yapılandırma elemanı, genellikle bir kare ya da daire şeklinde olup, işlemin şeklini belirler. Bu operasyonlar, özellikle kenar tespiti ve nesne analizi gibi uygulamalarda önemli rol oynar.\n",
        "\n",
        "\n",
        "\n",
        "\n",
        "\n"
      ],
      "metadata": {
        "id": "-tDvnri8-ByQ"
      }
    },
    {
      "cell_type": "code",
      "execution_count": null,
      "metadata": {
        "id": "4qO7Npc25859"
      },
      "outputs": [],
      "source": [
        "import cv2\n",
        "import numpy as np\n",
        "from matplotlib import pyplot as plt\n",
        "\n",
        "image = cv2.imread('ornek_goruntu.jpg', 0)\n",
        "\n",
        "kernel = np.ones((5, 5), np.uint8)\n",
        "\n",
        "opening = cv2.morphologyEx(image, cv2.MORPH_OPEN, kernel)\n",
        "\n",
        "closing = cv2.morphologyEx(image, cv2.MORPH_CLOSE, kernel)\n",
        "\n",
        "plt.subplot(131), plt.imshow(image, 'gray'), plt.title('Orjinal Görüntü')\n",
        "plt.subplot(132), plt.imshow(opening, 'gray'), plt.title('Açma İşlemi')\n",
        "plt.subplot(133), plt.imshow(closing, 'gray'), plt.title('Kapama İşlemi')\n",
        "\n",
        "plt.show()\n"
      ]
    }
  ]
}