{
  "nbformat": 4,
  "nbformat_minor": 0,
  "metadata": {
    "colab": {
      "provenance": []
    },
    "kernelspec": {
      "name": "python3",
      "display_name": "Python 3"
    },
    "language_info": {
      "name": "python"
    }
  },
  "cells": [
    {
      "cell_type": "code",
      "execution_count": null,
      "metadata": {
        "id": "sq7jVaTLvu79"
      },
      "outputs": [],
      "source": [
        "import cv2\n",
        "import numpy as np\n",
        "\n",
        "def gamma_correction(image, gamma=1.0):\n",
        "    # Giriş görüntüsünü normalleştir\n",
        "    normalized_image = image / 255.0\n",
        "\n",
        "    # Gamma düzeltme işlemi\n",
        "    corrected_image = np.power(normalized_image, gamma)\n",
        "\n",
        "    # Normalleştirilmiş görüntüyü 0-255 arasına çek\n",
        "    corrected_image = (corrected_image * 255).astype(np.uint8)\n",
        "\n",
        "    return corrected_image\n",
        "\n",
        "# Görüntüyü yükle\n",
        "image = cv2.imread('ornek_goruntu.jpg')\n",
        "\n",
        "# Gamma düzeltme uygula (örneğin, gamma değeri 1.5 olarak alınmıştır)\n",
        "gamma_value = 1.5\n",
        "corrected_image = gamma_correction(image, gamma_value)\n",
        "\n",
        "# Orijinal ve düzeltilmiş görüntüyü göster\n",
        "cv2.imshow('Orijinal Görüntü', image)\n",
        "cv2.imshow('Düzeltilmiş Görüntü', corrected_image)\n",
        "cv2.waitKey(0)\n",
        "cv2.destroyAllWindows()\n"
      ]
    }
  ]
}