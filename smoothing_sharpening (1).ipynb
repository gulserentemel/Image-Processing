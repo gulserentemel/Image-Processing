{
  "nbformat": 4,
  "nbformat_minor": 0,
  "metadata": {
    "colab": {
      "provenance": []
    },
    "kernelspec": {
      "name": "python3",
      "display_name": "Python 3"
    },
    "language_info": {
      "name": "python"
    }
  },
  "cells": [
    {
      "cell_type": "markdown",
      "source": [
        "Smoothing (pürüzsüzleştirme) ve sharpening (keskinleştirme) işlemleri, görüntü işleme alanında sıkça kullanılan iki farklı tekniktir. İşte bu iki teknikle ilgili detaylı bilgiler:\n",
        "\n",
        "Smoothing (Pürüzsüzleştirme):\n",
        "\n",
        "Amaç: Gürültüyü azaltmak, detayları yumuşatmak ve görüntüdeki kusurları gidermek için kullanılır.\n",
        "Filtreleme Teknikleri:\n",
        "Gauss Filtresi: Gauss filtresi, her pikseli, etrafındaki piksellerin ağırlıklı ortalamasıyla değiştirerek pürüzsüzleştirme sağlar. Bu, görüntüdeki keskin geçişleri yumuşatarak gürültüyü azaltır.\n",
        "Median Filtresi: Median filtresi, her pikselin etrafındaki bir bölge içindeki piksellerin ortanca değerini kullanarak pürüzsüzleştirme sağlar. Bu, gürültüye karşı daha etkili olabilir, ancak kenarları biraz daha belirgin hale getirebilir.\n",
        "\n",
        "Sharpening (Keskinleştirme):\n",
        "\n",
        "Amaç: Görüntüdeki kenarları, geçişleri ve detayları vurgulamak için kullanılır.\n",
        "Filtreleme Teknikleri:\n",
        "Laplacian Filtresi: Laplacian filtresi, görüntüdeki ikinci türevi hesaplayarak kenarları belirginleştirmeye çalışır. Ancak, bu filtre genellikle gürültüyü artırabilir, bu nedenle genellikle bir pürüzsüzleştirme işlemi ile birlikte kullanılır.\n",
        "Unsharp Masking: Unsharp masking tekniği, orijinal görüntüden bir pürüzsüzleştirme filtresi çıkarılarak elde edilen detayları orijinal görüntüye eklemeyi içerir. Bu, detayları vurgulayarak keskinleştirme sağlar.\n",
        "Bu filtreleme teknikleri, genellikle matematiksel operatörler ve matris dönüşleri kullanılarak uygulanır. Hangi tekniğin kullanılacağı, uygulama senaryosuna, görüntü tipine ve istenilen sonuca bağlı olarak değişebilir. Smoothing ve sharpening, görüntü işleme uygulamalarında önemli araçlardır ve genellikle birlikte kullanılırlar.\n",
        "\n",
        "\n",
        "\n",
        "\n",
        "\n"
      ],
      "metadata": {
        "id": "jiYii4rj_eXU"
      }
    },
    {
      "cell_type": "code",
      "execution_count": null,
      "metadata": {
        "id": "zrA8j_Md_dlZ"
      },
      "outputs": [],
      "source": [
        "import cv2\n",
        "import numpy as np\n",
        "from matplotlib import pyplot as plt\n",
        "\n",
        "image = cv2.imread('path/to/your/image.jpg')\n",
        "\n",
        "smoothed_image = cv2.GaussianBlur(image, (5, 5), 0)\n",
        "\n",
        "laplacian = cv2.Laplacian(image, cv2.CV_64F)\n",
        "sharpened_image = np.uint8(image - 0.7 * laplacian)\n",
        "\n",
        "plt.subplot(131), plt.imshow(cv2.cvtColor(image, cv2.COLOR_BGR2RGB)), plt.title('Orijinal Görüntü')\n",
        "plt.subplot(132), plt.imshow(cv2.cvtColor(smoothed_image, cv2.COLOR_BGR2RGB)), plt.title('Pürüzsüzleştirilmiş Görüntü')\n",
        "plt.subplot(133), plt.imshow(cv2.cvtColor(sharpened_image, cv2.COLOR_BGR2RGB)), plt.title('Keskinleştirilmiş Görüntü')\n",
        "\n",
        "plt.show()\n"
      ]
    }
  ]
}