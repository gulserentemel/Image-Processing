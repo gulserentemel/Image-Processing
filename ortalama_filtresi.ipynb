{
  "nbformat": 4,
  "nbformat_minor": 0,
  "metadata": {
    "colab": {
      "provenance": []
    },
    "kernelspec": {
      "name": "python3",
      "display_name": "Python 3"
    },
    "language_info": {
      "name": "python"
    }
  },
  "cells": [
    {
      "cell_type": "markdown",
      "source": [
        "ORTALAMA FİLTRESİ (Mean Filter -Box Blur)\n",
        "Yaygın isimleri; Mean filtering (ortalama filtresi), Smoothing (yumuşatma), Averaging (ortalama), Box filtering (kutu filtreleme).\n",
        "Ortalama filtresi, görüntüleri yumuşatmanın basit ve uygulanması kolay bir yöntemidir. Diğer bir deyişle, bir piksel ile diğerleri arasındaki değişim miktarını azaltmaktır. Genellikle görüntülerdeki gürültüyü azaltmak için kullanılır.\n",
        "Ortalama filtresi, bir görüntünün her bir piksel değerini komşularının ve kendisinin dahil olduğu ortalama değer ile değiştirmektir. Bu durum çevresindekileri temsil etmeyen piksel değerlerinin ortadan kalkmasına yol açar. Ortalama filtresi bir konvolüsyon filtresidir. Konvolüsyon filtreleri çekirdek şablon (kernel) temeline dayanır. Şekilde gösterildiği gibi çoğunlukla 3×3 kare çekirdek şablon kullanılır. Bazı yumuşatma işlemlerinde daha büyük şablonlar (5×5, 7x7 gibi) kullanılabilir. Büyük şablonun tek bir taramadaki etkisine benzer bir etki, küçük şablonun birden fazla geçişi ile de sağlanabilir.\n",
        "\n",
        "Ortalama filtresi, bir görüntüdeki gürültüyü azaltmak için kullanılan en basit yöntemdir. Ancak gürültü daha az belirgin hale getirilirken, görüntüde yumuşatılmış olmaktadır. Kullanılan çekirdek şablonun (matrisin) boyutu artırılırsa yumuşatma daha da artacaktır.\n",
        "Ortalama filtrelemeyle ilgili iki ana sorun bulunmaktadır:\n",
        "a) Resmi çok iyi temsil etmeyen değere sahip bir piksel, yakın bölgedeki tüm piksellerin ortalama değerini önemli ölçüde etkiler. Buda resmin değişmesine sebep olur.\n",
        "b) Filtre (şablon) bir kenar üzerinden geçerken, kenarın her iki tarafındaki pikseller için yeni değerler üretecektir ve bu durum kenarın bulanıklaşmasına sebep olacaktır. Eğer keskin kenarların kaybolması istenmiyorsa bu bir sorun olabilir. Bu iki problemi gidermek için Ortalama filtresi (mean) yerine, Medyan filtresi (Median Filter) geliştirilmiştir. Fakat bu filtrenin de hesaplama süresi uzun sürmektedir. Resmi yumuşatma için yaygın kullanılan filtrelerden biri de \"Gauss yumuşatma filtresi\" (Gaussian smoothing filter) dir.\n",
        "\n",
        "\n",
        "\n"
      ],
      "metadata": {
        "id": "qhYItKjSGKxP"
      }
    },
    {
      "cell_type": "code",
      "execution_count": null,
      "metadata": {
        "id": "r8iOPFg_FSsp"
      },
      "outputs": [],
      "source": [
        "import numpy as np\n",
        "import cv2\n",
        "\n",
        "def average_filter(image, kernel_size):\n",
        "    height, width = image.shape[:2]\n",
        "\n",
        "    # Filtre matrisini oluştur\n",
        "    kernel = np.ones((kernel_size, kernel_size), np.float32) / (kernel_size ** 2)\n",
        "\n",
        "    # Görüntüyü gri tonlamaya dönüştür (eğer renkli ise)\n",
        "    if len(image.shape) == 3:\n",
        "        image = cv2.cvtColor(image, cv2.COLOR_BGR2GRAY)\n",
        "\n",
        "    # Filtreleme işlemi\n",
        "    filtered_image = cv2.filter2D(image, -1, kernel)\n",
        "\n",
        "    return filtered_image\n",
        "\n",
        "# Görüntüyü yükle\n",
        "image = cv2.imread('path/to/your/image.jpg')\n",
        "\n",
        "# Filtre boyutu\n",
        "kernel_size = 5\n",
        "\n",
        "# Ortalama filtreleme işlemi\n",
        "filtered_image = average_filter(image, kernel_size)\n",
        "\n",
        "# Görüntüleri göster\n",
        "cv2.imshow('Original Image', image)\n",
        "cv2.imshow('Filtered Image', filtered_image)\n",
        "cv2.waitKey(0)\n",
        "cv2.destroyAllWindows()\n"
      ]
    }
  ]
}