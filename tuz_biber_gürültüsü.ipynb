{
  "nbformat": 4,
  "nbformat_minor": 0,
  "metadata": {
    "colab": {
      "provenance": []
    },
    "kernelspec": {
      "name": "python3",
      "display_name": "Python 3"
    },
    "language_info": {
      "name": "python"
    }
  },
  "cells": [
    {
      "cell_type": "markdown",
      "source": [
        "Görüntü işleme terimlerinde \"tuz ve biber gürültüsü,\" bir görüntü üzerinde oluşan rastgele ve istenmeyen piksel değerlerini ifade eder. Bu tür gürültü, bir görüntüde bazı piksellerin maksimum değeriyle (biber) veya minimum değeriyle (tuz) değiştirilmesi sonucu oluşur.\n",
        "\n",
        "\"Tuz ve biber gürültüsü\" terimi, bu gürültü türünün bir benzetmesidir. \"Tuz\" kısmı, minimum değere sahip pikselleri temsil ederken, \"biber\" kısmı maksimum değere sahip pikselleri temsil eder. Bu tür gürültü, genellikle sensör hataları, veri iletimindeki sorunlar veya diğer çeşitli faktörlerden kaynaklanabilir.\n",
        "\n",
        "Görüntü işleme uygulamalarında, tuz ve biber gürültüsü genellikle bir görüntünün kalitesini düşürebilir ve bu nedenle bu tür gürültüleri azaltmak veya kaldırmak için çeşitli filtreleme teknikleri kullanılır. Median filtreleme gibi yöntemler, bu tür gürültüleri etkili bir şekilde azaltabilir ve görüntüyü iyileştirebilir.\n",
        "\n",
        "\n",
        "\n",
        "\n",
        "\n"
      ],
      "metadata": {
        "id": "bLTwwSu9wsbg"
      }
    },
    {
      "cell_type": "code",
      "execution_count": null,
      "metadata": {
        "id": "3ufYi-DpwD3Z"
      },
      "outputs": [],
      "source": [
        "import numpy as np\n",
        "import cv2\n",
        "import matplotlib.pyplot as plt\n",
        "\n",
        "def salt_and_pepper_noise(image, salt_prob, pepper_prob):\n",
        "    noisy_image = np.copy(image)\n",
        "\n",
        "    # Tuz gürültüsü ekleme\n",
        "    num_salt = np.ceil(salt_prob * image.size)\n",
        "    salt_coords = [np.random.randint(0, i-1, int(num_salt)) for i in image.shape]\n",
        "    noisy_image[salt_coords[0], salt_coords[1]] = 1\n",
        "\n",
        "    # Biber gürültüsü ekleme\n",
        "    num_pepper = np.ceil(pepper_prob * image.size)\n",
        "    pepper_coords = [np.random.randint(0, i-1, int(num_pepper)) for i in image.shape]\n",
        "    noisy_image[pepper_coords[0], pepper_coords[1]] = 0\n",
        "\n",
        "    return noisy_image\n",
        "\n",
        "image = cv2.imread(\"example_image.jpg\", cv2.IMREAD_GRAYSCALE)\n",
        "\n",
        "noisy_image = salt_and_pepper_noise(image, 0.02, 0.02)\n",
        "\n",
        "plt.figure(figsize=(10, 5))\n",
        "\n",
        "plt.subplot(1, 2, 1)\n",
        "plt.imshow(image, cmap='gray')\n",
        "plt.title('Orijinal Görüntü')\n",
        "\n",
        "plt.subplot(1, 2, 2)\n",
        "plt.imshow(noisy_image, cmap='gray')\n",
        "plt.title('Tuz ve Biber Gürültülü Görüntü')\n",
        "\n",
        "plt.show()\n"
      ]
    }
  ]
}