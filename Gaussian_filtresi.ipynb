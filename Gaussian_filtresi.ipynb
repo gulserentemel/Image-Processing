{
  "nbformat": 4,
  "nbformat_minor": 0,
  "metadata": {
    "colab": {
      "provenance": []
    },
    "kernelspec": {
      "name": "python3",
      "display_name": "Python 3"
    },
    "language_info": {
      "name": "python"
    }
  },
  "cells": [
    {
      "cell_type": "markdown",
      "source": [
        "Gaussian filtresi, bir görüntü üzerindeki gürültüyü azaltmak, kenarları yumuşatmak veya görüntüyü daha net hale getirmek gibi amaçlarla kullanılan bir tür düşük geçiş filtresidir. Bu filtre, Gauss fonksiyonu kullanılarak oluşturulan bir ağırlık dağılımını uygular.\n",
        "\n",
        "Gaussian filtresinin temel amacı, bir pikselin değerini, çevresindeki piksellerin değerleriyle ağırlıklı bir ortalamayla değiştirmektir. Bu ağırlıklar, Gauss fonksiyonu kullanılarak belirlenir, bu da filtre uygulandığında merkeze daha fazla ağırlık verilmesini sağlar.\n",
        "\n",
        "Gaussian filtresinin kullanım alanları şunlardır:\n",
        "\n",
        "Gürültü Azaltma: Gürültülü bir görüntüdeki rastgele piksel değerlerini düzenleyerek gürültüyü azaltabilir.\n",
        "\n",
        "Kenar Yumuşatma: Görüntü üzerindeki keskin kenarları yumuşatarak daha pürüzsüz bir görüntü elde etmek için kullanılabilir.\n",
        "\n",
        "Hassasiyet Azaltma: Yüksek frekansta bulunan detayları azaltarak görüntüdeki küçük değişikliklere karşı daha az hassas hale getirebilir.\n",
        "\n",
        "Ölçek Uzayı İşlemleri: Görüntü piramitlerindeki farklı ölçeklerdeki görüntüler arasında işlemler yaparken kullanılabilir.\n",
        "\n",
        "Gaussian filtresi, bilgisayar görüşü, görüntü işleme ve grafik uygulamalarında sıkça kullanılan bir temel işlemdir. Ancak, filtre boyutu ve standart sapma gibi parametrelerin doğru seçilmesi önemlidir, çünkü bu parametreler filtre performansını etkiler."
      ],
      "metadata": {
        "id": "uXGRJJb2g9Ch"
      }
    },
    {
      "cell_type": "code",
      "execution_count": null,
      "metadata": {
        "id": "-QGphVTKeOOW"
      },
      "outputs": [],
      "source": [
        "import numpy as np\n",
        "import matplotlib.pyplot as plt\n",
        "from scipy.ndimage import gaussian_filter\n",
        "from PIL import Image\n",
        "\n",
        "image_path = \"path/to/your/image.jpg\"\n",
        "image = np.array(Image.open(image_path).convert('L'))\n",
        "\n",
        "sigma = 2  # Gauss fonksiyonunun standart sapması\n",
        "truncate = 3.0  # Filtre uzunluğu\n",
        "\n",
        "# Gaussian filtresi uygulama\n",
        "filtered_image = gaussian_filter(image, sigma=sigma, truncate=truncate)\n",
        "\n",
        "plt.figure(figsize=(10, 5))\n",
        "\n",
        "plt.subplot(1, 2, 1)\n",
        "plt.title('Orijinal Görüntü')\n",
        "plt.imshow(image, cmap='gray')\n",
        "plt.axis('off')\n",
        "\n",
        "plt.subplot(1, 2, 2)\n",
        "plt.title('Gaussian Filtre Uygulanmış Görüntü')\n",
        "plt.imshow(filtered_image, cmap='gray')\n",
        "plt.axis('off')\n",
        "\n",
        "plt.show()\n"
      ]
    }
  ]
}