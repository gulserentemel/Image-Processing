{
  "nbformat": 4,
  "nbformat_minor": 0,
  "metadata": {
    "colab": {
      "provenance": []
    },
    "kernelspec": {
      "name": "python3",
      "display_name": "Python 3"
    },
    "language_info": {
      "name": "python"
    }
  },
  "cells": [
    {
      "cell_type": "code",
      "execution_count": null,
      "metadata": {
        "id": "kMx23jTsirwD"
      },
      "outputs": [],
      "source": [
        "#Sobel filtresi bir görüntü işleme tekniğidir ve genellikle kenar tespiti amacıyla kullanılır. Kenar tespiti, bir görüntüdeki nesnelerin sınırlarını veya konturlarını belirleme\n",
        "#işlemidir.\n",
        "#Sobel filtresi, bir görüntü üzerindeki yoğunluk gradyanlarını vurgulamak için kullanılır. Yoğunluk gradyanı, bir pikselin renk yoğunluğundaki değişikliği ifade eder. Sobel filtresi,\n",
        "#bir görüntüyü x ve y eksenlerinde türev alarak kenar bilgisini elde eder.\n",
        "#Sobel operatörü genellikle bir matris (kernel) olarak temsil edilir. İki farklı matris, biri dikey kenarları belirlemek için (Sobel dikey filtresi), diğeri ise yatay kenarları\n",
        "#belirlemek için (Sobel yatay filtresi) kullanılır. Bu matrisler şu şekildedir:\n",
        "\n",
        "#Sobel dikey filtresi:\n",
        "# [-1 0 1]\n",
        "# [-2 0 2]\n",
        "# [-1 0 1]\n",
        "\n",
        "#Sobel yatay filtresi:\n",
        "# [-1 -2 -1]\n",
        "# [ 0  0  0]\n",
        "# [ 1  2  1]\n",
        "\n",
        "#Bu matrisler, bir pikselin etrafındaki piksellerin yoğunluk değerleri arasındaki farkları ölçer. Bu farklar, kenarlarda yoğunluk değişimlerini vurgular. Sobel filtresi, bu matrisleri\n",
        "#giriş görüntüsü üzerine kaydırarak her pikselin kenar gücünü hesaplar.\n",
        "\n",
        "#Genellikle, Sobel filtresi uygulandıktan sonra elde edilen sonuçlar genellikle kenar tespiti için kullanılır. Yüksek gradyan değerleri, kenarlara karşılık gelirken, düşük değerler\n",
        "#genellikle arka plana karşılık gelir. Bu, nesne sınırlarını belirlemek ve görüntü üzerindeki önemli özellikleri ortaya çıkarmak için kullanışlıdır."
      ]
    },
    {
      "cell_type": "code",
      "source": [
        "import cv2\n",
        "import numpy as np\n",
        "from matplotlib import pyplot as plt\n",
        "\n",
        "# Görüntüyü yükle\n",
        "image = cv2.imread('görüntü.jpg', cv2.IMREAD_GRAYSCALE)\n",
        "\n",
        "# Sobel filtresini uygula\n",
        "sobelx = cv2.Sobel(image, cv2.CV_64F, 1, 0, ksize=3)\n",
        "sobely = cv2.Sobel(image, cv2.CV_64F, 0, 1, ksize=3)\n",
        "\n",
        "# Kenar gücünü ve yönetimini hesapla\n",
        "magnitude = np.sqrt(sobelx**2 + sobely**2)\n",
        "angle = np.arctan2(sobely, sobelx)\n",
        "\n",
        "# Kenarları görselleştir\n",
        "plt.figure(figsize=(10, 5))\n",
        "\n",
        "plt.subplot(2, 2, 1), plt.imshow(image, cmap='gray')\n",
        "plt.title('Original'), plt.xticks([]), plt.yticks([])\n",
        "\n",
        "plt.subplot(2, 2, 2), plt.imshow(sobelx, cmap='gray')\n",
        "plt.title('Sobel X'), plt.xticks([]), plt.yticks([])\n",
        "\n",
        "plt.subplot(2, 2, 3), plt.imshow(sobely, cmap='gray')\n",
        "plt.title('Sobel Y'), plt.xticks([]), plt.yticks([])\n",
        "\n",
        "plt.subplot(2, 2, 4), plt.imshow(magnitude, cmap='gray')\n",
        "plt.title('Magnitude'), plt.xticks([]), plt.yticks([])\n",
        "\n",
        "plt.show()\n"
      ],
      "metadata": {
        "id": "PmvKebdVkNCU"
      },
      "execution_count": null,
      "outputs": []
    }
  ]
}