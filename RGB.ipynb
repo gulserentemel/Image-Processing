{
  "nbformat": 4,
  "nbformat_minor": 0,
  "metadata": {
    "colab": {
      "provenance": []
    },
    "kernelspec": {
      "name": "python3",
      "display_name": "Python 3"
    },
    "language_info": {
      "name": "python"
    }
  },
  "cells": [
    {
      "cell_type": "markdown",
      "source": [
        "RGB kullanarak bölütleme, bir görüntüdeki belirli renk bölgelerini tanımlama ve izolasyon yapma işlemidir. Temelde, her pikselin kırmızı (R), yeşil (G) ve mavi (B) bileşenlerini kullanarak belirli bir renk aralığına göre filtreleme işlemidir. Bu filtreleme işlemi genellikle renk eşikleme (color thresholding) veya renk segmentasyonu (color segmentation) olarak adlandırılır.\n",
        "\n",
        "İşte RGB kullanarak bölütleme işlemiyle ilgili temel adımlar:\n",
        "\n",
        "Görüntüyü Yükleme:\n",
        "\n",
        "İlk adım, bölütleme yapılacak olan görüntüyü yüklemektir. Bu, genellikle bir resim dosyası olacaktır.\n",
        "Renk Uzayını Değiştirme:\n",
        "\n",
        "Görüntü, tipik olarak RGB renk uzayında temsil edilir. Ancak, bölütleme yapmak için diğer renk uzayları da kullanılabilir. OpenCV gibi kütüphaneler, görüntüyü diğer renk uzaylarına dönüştürme işlevselliği sağlar (örneğin, HSV veya LAB renk uzayları).\n",
        "Renk Eşikleme (Color Thresholding):\n",
        "\n",
        "Belirli bir renk aralığına düşen pikselleri seçmek için renk eşikleme kullanılır. Bu, her bir renk bileşeni için belirli bir alt ve üst eşik değeri belirlemeyi içerir. Örneğin, belirli bir renk tonunda olması gereken bir nesneyi izole etmek için, bu renk tonunun uygun alt ve üst sınırlarını belirleyebilirsiniz.\n",
        "Mask Oluşturma:\n",
        "\n",
        "Renk eşikleme işlemi, belirli bir renk aralığına uyan pikselleri içeren bir maske oluşturur. Bu maske, orijinal görüntüdeki istenmeyen pikselleri (diğer renkleri) filtreler.\n",
        "Sonuçları İşleme ve Gösterme:\n",
        "\n",
        "Oluşturulan maske kullanılarak, orijinal görüntüdeki ilgili renk bölümleri izole edilebilir veya vurgulanabilir. Bu işlem genellikle \"bitwise and\" işlemi olarak adlandırılır."
      ],
      "metadata": {
        "id": "EDRs-pi-5pn7"
      }
    },
    {
      "cell_type": "code",
      "execution_count": null,
      "metadata": {
        "id": "JZWzkPP04zjf"
      },
      "outputs": [],
      "source": [
        "import cv2\n",
        "import numpy as np\n",
        "\n",
        "image = cv2.imread('resim.jpg')\n",
        "\n",
        "image_rgb = cv2.cvtColor(image, cv2.COLOR_BGR2RGB)\n",
        "\n",
        "# Belirli bir renk aralığına göre eşikleme yap\n",
        "lower_bound = np.array([0, 0, 100], dtype=np.uint8)\n",
        "upper_bound = np.array([80, 80, 255], dtype=np.uint8)\n",
        "mask = cv2.inRange(image_rgb, lower_bound, upper_bound)\n",
        "\n",
        "# Bölütlenmiş resmi göster\n",
        "result = cv2.bitwise_and(image, image, mask=mask)\n",
        "\n",
        "# Orijinal ve bölütlenmiş resmi göster\n",
        "cv2.imshow('Original Image', image)\n",
        "cv2.imshow('Segmented Image', result)\n",
        "cv2.waitKey(0)\n",
        "cv2.destroyAllWindows()\n"
      ]
    }
  ]
}